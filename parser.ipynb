{
 "cells": [
  {
   "cell_type": "code",
   "execution_count": 2,
   "metadata": {},
   "outputs": [],
   "source": [
    "# from bs4 import BeautifulSoup\n",
    "# import requests"
   ]
  },
  {
   "cell_type": "code",
   "execution_count": 3,
   "metadata": {},
   "outputs": [],
   "source": [
    "# def get_url(genre, start):\n",
    "#     return f\"https://www.imdb.com/search/title/?title_type=feature&genres={genre}&start={start}&explore=genres&ref_=adv_nxt\"\n",
    "\n",
    "# genres = [\"action\", \"adventure\", \"animation\", \"biography\", \"comedy\", \"crime\", \"documentary\", \"drama\", \"family\", \"fantasy\",\\\n",
    "#         \"film-noir\", \"history\", \"horror\", \"music\", \"musical\", \"mystery\", \"romance\", \"sci-fi\", \"short\", \"sport\",\\\n",
    "#         \"superhero\", \"thriller\", \"war\", \"western\"]"
   ]
  },
  {
   "cell_type": "code",
   "execution_count": 6,
   "metadata": {},
   "outputs": [
    {
     "data": {
      "text/plain": [
       "True"
      ]
     },
     "execution_count": 6,
     "metadata": {},
     "output_type": "execute_result"
    }
   ],
   "source": [
    "# requests.get(get_url(\"animation\", 0)).text"
   ]
  },
  {
   "cell_type": "markdown",
   "metadata": {},
   "source": [
    "# Parsing routine"
   ]
  },
  {
   "cell_type": "code",
   "execution_count": 33,
   "metadata": {},
   "outputs": [],
   "source": [
    "#!git clone https://github.com/JohnDoee/imdbparser.git\n",
    "from imdbparser.imdbparser import IMDb\n",
    "import requests\n",
    "\n",
    "from pathlib import Path\n",
    "from tqdm import tqdm\n",
    "import json\n",
    "\n",
    "import pandas as pd"
   ]
  },
  {
   "cell_type": "code",
   "execution_count": 2,
   "metadata": {},
   "outputs": [],
   "source": [
    "data_dir = Path(\"data\")\n",
    "if not data_dir.exists(): data_dir.mkdir()\n",
    "imgs_dir = data_dir / \"imgs\"\n",
    "if not imgs_dir.exists(): imgs_dir.mkdir()"
   ]
  },
  {
   "cell_type": "code",
   "execution_count": 42,
   "metadata": {},
   "outputs": [
    {
     "name": "stderr",
     "output_type": "stream",
     "text": [
      "100%|██████████| 5/5 [08:59<00:00, 107.89s/it]\n",
      "100%|██████████| 1/1 [08:59<00:00, 539.47s/it]\n"
     ]
    },
    {
     "data": {
      "text/plain": [
       "4702"
      ]
     },
     "execution_count": 42,
     "metadata": {},
     "output_type": "execute_result"
    }
   ],
   "source": [
    "genres = [\"Action\", \"Adventure\", \"Animation\", \"Biography\", \"Comedy\", \"Crime\", \"Documentary\", \"Drama\",\n",
    "            \"Family\", \"Fantasy\", \"Film-Noir\", \"History\", \"Horror\", \"Music\", \"Musical\", \"Mystery\",\n",
    "            \"Romance\", \"Sci-Fi\", \"Short\", \"Sport\", \"Superhero\", \"Thriller\", \"War\", \"Western\"]\n",
    "# genres = \n",
    "\n",
    "if (data_dir / \"movie_info.csv\").exists():\n",
    "    results = pd.read_csv(data_dir / \"movie_info.csv\")\n",
    "    results[\"genres\"] = results[\"genres\"].map(lambda x: json.loads(x.replace(\"\\'\", \"\\\"\")))\n",
    "    seen = set(results.imdb_id)\n",
    "    results = results.to_dict(\"records\")\n",
    "else:\n",
    "    results = []\n",
    "    seen = set()\n",
    "\n",
    "imdb = IMDb()\n",
    "\n",
    "for genre in tqdm(genres):\n",
    "    for year in tqdm(range(2015, 2023)):\n",
    "        try:\n",
    "            query = imdb.advanced_search(genres=[genre],  release_date=(year, year + 1))\n",
    "            query.fetch()\n",
    "            for movie in query.results:\n",
    "                movie.imdb_id = movie.imdb_id.lstrip(\"t\")\n",
    "                if movie.imdb_id in seen: continue\n",
    "                seen.add(movie.imdb_id)\n",
    "                movie.fetch()\n",
    "\n",
    "                results.append({\"imdb_id\": movie.imdb_id, \"title\": movie.title, \"plot\": movie.plot,\n",
    "                                \"genres\": movie.genres})\n",
    "                img_data = requests.get(movie.cover).content\n",
    "                with open(imgs_dir / f\"{movie.imdb_id}.jpg\", 'wb') as handler:\n",
    "                    handler.write(img_data)\n",
    "        except Exception as e:\n",
    "            print(e)\n",
    "\n",
    "# exceptional genres\n",
    "for year in tqdm(range(1950, 1959)):\n",
    "    try:\n",
    "        query = imdb.advanced_search(genres=[\"Film-Noir\"],  release_date=(year, year + 1))\n",
    "        query.fetch()\n",
    "        for movie in query.results:\n",
    "            movie.imdb_id = movie.imdb_id.lstrip(\"t\")\n",
    "            if movie.imdb_id in seen: continue\n",
    "            seen.add(movie.imdb_id)\n",
    "            movie.fetch()\n",
    "\n",
    "            results.append({\"imdb_id\": movie.imdb_id, \"title\": movie.title, \"plot\": movie.plot,\n",
    "                            \"genres\": (movie.genres if \"Film-Noir\" in movie.genres else movie.genres + [\"Film-Noir\"])})\n",
    "            img_data = requests.get(movie.cover).content\n",
    "            with open(imgs_dir / f\"{movie.imdb_id}.jpg\", 'wb') as handler:\n",
    "                handler.write(img_data)\n",
    "    except Exception as e:\n",
    "        print(e)\n",
    "\n",
    "for year in tqdm(range(2015, 2023)):\n",
    "    try:\n",
    "        query = imdb.advanced_search(keywords=\"Superhero\",  release_date=(year, year + 1))\n",
    "        query.fetch()\n",
    "        for movie in query.results:\n",
    "            movie.imdb_id = movie.imdb_id.lstrip(\"t\")\n",
    "            if movie.imdb_id in seen: \n",
    "                idx = 0\n",
    "                while results[idx][\"imdb_id\"] != movie.imdb_id: idx += 1\n",
    "                if \"Superhero\" not in results[idx][\"genres\"]:\n",
    "                    results[idx][\"genres\"] += [\"Superhero\"]\n",
    "                continue\n",
    "            seen.add(movie.imdb_id)\n",
    "            movie.fetch()\n",
    "\n",
    "            results.append({\"imdb_id\": movie.imdb_id, \"title\": movie.title, \"plot\": movie.plot,\n",
    "                            \"genres\": (movie.genres if \"Superhero\" in movie.genres else movie.genres + [\"Superhero\"])})\n",
    "            img_data = requests.get(movie.cover).content\n",
    "            with open(imgs_dir / f\"{movie.imdb_id}.jpg\", 'wb') as handler:\n",
    "                handler.write(img_data)\n",
    "    except Exception as e:\n",
    "        print(e)\n",
    "\n",
    "pd.DataFrame(results).to_csv(data_dir / \"movie_info.csv\", index=False)\n",
    "len(results)"
   ]
  },
  {
   "cell_type": "markdown",
   "metadata": {},
   "source": [
    "# Explore"
   ]
  },
  {
   "cell_type": "code",
   "execution_count": 43,
   "metadata": {},
   "outputs": [],
   "source": [
    "import pandas as pd\n",
    "import json"
   ]
  },
  {
   "cell_type": "code",
   "execution_count": 44,
   "metadata": {},
   "outputs": [
    {
     "name": "stdout",
     "output_type": "stream",
     "text": [
      "{'Drama', 'Family', 'Talk-Show', 'Animation', 'War', 'Fantasy', 'Thriller', 'Crime', 'Sci-Fi', 'Documentary', 'Film-Noir', 'News', 'History', 'Game-Show', 'Musical', 'Music', 'Romance', 'Sport', 'Comedy', 'Western', 'Mystery', 'Biography', 'Horror', 'Superhero', 'Adventure', 'Short', 'Reality-TV', 'Action'}\n"
     ]
    },
    {
     "data": {
      "text/plain": [
       "{'Action': 1281,\n",
       " 'Adventure': 1139,\n",
       " 'Animation': 581,\n",
       " 'Biography': 508,\n",
       " 'Comedy': 1299,\n",
       " 'Crime': 921,\n",
       " 'Documentary': 336,\n",
       " 'Drama': 2754,\n",
       " 'Family': 575,\n",
       " 'Fantasy': 891,\n",
       " 'Film-Noir': 257,\n",
       " 'History': 455,\n",
       " 'Horror': 591,\n",
       " 'Music': 337,\n",
       " 'Musical': 264,\n",
       " 'Mystery': 735,\n",
       " 'Romance': 679,\n",
       " 'Sci-Fi': 832,\n",
       " 'Short': 309,\n",
       " 'Sport': 323,\n",
       " 'Superhero': 233,\n",
       " 'Thriller': 1216,\n",
       " 'War': 311,\n",
       " 'Western': 333}"
      ]
     },
     "execution_count": 44,
     "metadata": {},
     "output_type": "execute_result"
    }
   ],
   "source": [
    "data_dir = Path(\"data\")\n",
    "movies_info = pd.read_csv(data_dir / \"movie_info.csv\")\n",
    "movies_info[\"genres\"] = movies_info[\"genres\"].map(lambda x: json.loads(x.replace(\"\\'\", \"\\\"\")))\n",
    "genres = [\"Action\", \"Adventure\", \"Animation\", \"Biography\", \"Comedy\", \"Crime\", \"Documentary\", \"Drama\",\n",
    "            \"Family\", \"Fantasy\", \"Film-Noir\", \"History\", \"Horror\", \"Music\", \"Musical\", \"Mystery\",\n",
    "            \"Romance\", \"Sci-Fi\", \"Short\", \"Sport\", \"Superhero\", \"Thriller\", \"War\", \"Western\"]\n",
    "genres_count = dict.fromkeys(genres, 0)\n",
    "unique_genres = set()\n",
    "for _, row in movies_info.iterrows():\n",
    "    unique_genres |= set(row[\"genres\"])\n",
    "    for genre in genres_count:\n",
    "        genres_count[genre] += genre in row[\"genres\"]\n",
    "print(unique_genres)\n",
    "genres_count"
   ]
  },
  {
   "cell_type": "code",
   "execution_count": 47,
   "metadata": {},
   "outputs": [],
   "source": [
    "import numpy as np\n",
    "\n",
    "import matplotlib.pyplot as plt\n",
    "import seaborn as sns"
   ]
  },
  {
   "cell_type": "code",
   "execution_count": 58,
   "metadata": {},
   "outputs": [
    {
     "data": {
      "image/png": "[encoded data removed]",
      "text/plain": [
       "<Figure size 1008x432 with 1 Axes>"
      ]
     },
     "metadata": {
      "needs_background": "light"
     },
     "output_type": "display_data"
    }
   ],
   "source": [
    "fig, ax = plt.subplots(figsize=(14, 6))\n",
    "sns.barplot(x=np.array(list(genres_count.keys())), y=np.array(list(genres_count.values())), ax=ax)\n",
    "plt.xticks(rotation=-40)\n",
    "plt.show()"
   ]
  },
  {
   "cell_type": "code",
   "execution_count": null,
   "metadata": {},
   "outputs": [],
   "source": []
  }
 ],
 "metadata": {
  "kernelspec": {
   "display_name": "Python 3.8.9 64-bit",
   "language": "python",
   "name": "python3"
  },
  "language_info": {
   "codemirror_mode": {
    "name": "ipython",
    "version": 3
   },
   "file_extension": ".py",
   "mimetype": "text/x-python",
   "name": "python",
   "nbconvert_exporter": "python",
   "pygments_lexer": "ipython3",
   "version": "3.8.9"
  },
  "orig_nbformat": 4,
  "vscode": {
   "interpreter": {
    "hash": "1289e797c8b2364a1b561fc46768e8fcf8446b2e18e77ab0795c8743ff6ac10a"
   }
  }
 },
 "nbformat": 4,
 "nbformat_minor": 2
}
